{
 "cells": [
  {
   "cell_type": "markdown",
   "metadata": {
    "application/vnd.databricks.v1+cell": {
     "cellMetadata": {
      "byteLimit": 2048000,
      "rowLimit": 10000
     },
     "inputWidgets": {},
     "nuid": "959b912a-5b88-46b6-8798-8c93a65bc70d",
     "showTitle": false,
     "tableResultSettingsMap": {},
     "title": ""
    }
   },
   "source": [
    "#### READ MICROBATCH `CUSTOMERS.JSON` FILE FROM VOLUME"
   ]
  },
  {
   "cell_type": "code",
   "execution_count": 0,
   "metadata": {
    "application/vnd.databricks.v1+cell": {
     "cellMetadata": {
      "byteLimit": 2048000,
      "rowLimit": 10000
     },
     "inputWidgets": {},
     "nuid": "c419cc92-a4ff-49b2-9d16-0fcd543b3047",
     "showTitle": false,
     "tableResultSettingsMap": {},
     "title": ""
    }
   },
   "outputs": [],
   "source": [
    "cust_streaming_df = (spark.readStream\n",
    "                      .format(\"cloudFiles\")\n",
    "                      .option(\"cloudFiles.format\", \"json\")\n",
    "                      .option(\"cloudFiles.schemaLocation\", '/Volumes/gizmobox_dev/landing/operational_data/customers/*.json/_schema')\n",
    "                      .option(\"cloudFiles.maxFilesPerTrigger\", 1)\n",
    "                      .option(\"cloudFiles.inferColumnTypes\", \"true\")\n",
    "                     .option(\"cloudFiles.schemaHints\", \"customer_id int, customer_name string, date_of_birth date, telephone string, email string, member_since date, created_timestamp timestamp\")\n",
    "                      .load('/Volumes/gizmobox_dev/landing/operational_data/customers_streaming/*.json')\n",
    ")"
   ]
  },
  {
   "cell_type": "markdown",
   "metadata": {
    "application/vnd.databricks.v1+cell": {
     "cellMetadata": {
      "byteLimit": 2048000,
      "rowLimit": 10000
     },
     "inputWidgets": {},
     "nuid": "9c73a6c3-2d85-4339-b044-e52d5b532fa7",
     "showTitle": false,
     "tableResultSettingsMap": {},
     "title": ""
    }
   },
   "source": [
    "#### ADD AUDIT COLUMNS TO RECORD `FILE_NAME` & `LOAD_TIMESTAMP`"
   ]
  },
  {
   "cell_type": "code",
   "execution_count": 0,
   "metadata": {
    "application/vnd.databricks.v1+cell": {
     "cellMetadata": {
      "byteLimit": 2048000,
      "rowLimit": 10000
     },
     "inputWidgets": {},
     "nuid": "1ad51b32-7711-4d8a-9a0e-ad5cb89a28ff",
     "showTitle": false,
     "tableResultSettingsMap": {},
     "title": ""
    }
   },
   "outputs": [],
   "source": [
    "from pyspark.sql.functions import col, current_timestamp\n",
    "\n",
    "cust_audit_df =  (cust_streaming_df.withColumn('file_path', col('_metadata.file_path'))\n",
    "                                  .withColumn('load_timestamp', current_timestamp())\n",
    ")\n",
    "# display(cust_audit_df)"
   ]
  },
  {
   "cell_type": "markdown",
   "metadata": {
    "application/vnd.databricks.v1+cell": {
     "cellMetadata": {
      "byteLimit": 2048000,
      "rowLimit": 10000
     },
     "inputWidgets": {},
     "nuid": "851a1e89-a220-4bf0-8590-cf554d18e063",
     "showTitle": false,
     "tableResultSettingsMap": {},
     "title": ""
    }
   },
   "source": [
    "#### WRITE TRANSFORMED DATA INTO DELTA TABLE"
   ]
  },
  {
   "cell_type": "code",
   "execution_count": 0,
   "metadata": {
    "application/vnd.databricks.v1+cell": {
     "cellMetadata": {
      "byteLimit": 2048000,
      "rowLimit": 10000
     },
     "inputWidgets": {},
     "nuid": "c0a9d9a3-106a-4a1e-85c3-cfc12ae5b098",
     "showTitle": false,
     "tableResultSettingsMap": {},
     "title": ""
    }
   },
   "outputs": [],
   "source": [
    "checkpoint_path = \"/Volumes/gizmobox_dev/landing/operational_data/customers_streaming/_checkpoints\"\n",
    "dbutils.fs.rm(checkpoint_path, recurse=True)\n",
    "print(f\"Checkpoint directory {checkpoint_path} deleted.\")"
   ]
  },
  {
   "cell_type": "code",
   "execution_count": 0,
   "metadata": {
    "application/vnd.databricks.v1+cell": {
     "cellMetadata": {
      "byteLimit": 2048000,
      "rowLimit": 10000
     },
     "inputWidgets": {},
     "nuid": "bca0c673-44b8-4a69-9926-af0e58f756a7",
     "showTitle": false,
     "tableResultSettingsMap": {},
     "title": ""
    }
   },
   "outputs": [],
   "source": [
    "cust_audit_df.writeStream \\\n",
    "    .format(\"delta\") \\\n",
    "    .option(\"checkpointLocation\", \"/Volumes/gizmobox_dev/landing/operational_data/customers_streaming/_checkpoints\") \\\n",
    "    .toTable(\"gizmobox_dev.bronze.customers_streaming\")"
   ]
  },
  {
   "cell_type": "code",
   "execution_count": 0,
   "metadata": {
    "application/vnd.databricks.v1+cell": {
     "cellMetadata": {
      "byteLimit": 2048000,
      "rowLimit": 10000
     },
     "inputWidgets": {},
     "nuid": "0e3315f1-111a-457c-99bd-fc6aa328719b",
     "showTitle": false,
     "tableResultSettingsMap": {},
     "title": ""
    }
   },
   "outputs": [],
   "source": [
    "dbutils.notebook.exit('CUSTOMERS STREAMING HAS BEEN LOADED INTO BRONZE SCHEMA....')"
   ]
  }
 ],
 "metadata": {
  "application/vnd.databricks.v1+notebook": {
   "computePreferences": null,
   "dashboards": [],
   "environmentMetadata": {
    "base_environment": "",
    "environment_version": "2"
   },
   "inputWidgetPreferences": null,
   "language": "python",
   "notebookMetadata": {
    "mostRecentlyExecutedCommandWithImplicitDF": {
     "commandId": 6856726277820140,
     "dataframes": [
      "_sqldf"
     ]
    },
    "pythonIndentUnit": 4
   },
   "notebookName": "01.CustomersStreaming",
   "widgets": {}
  },
  "language_info": {
   "name": "python"
  }
 },
 "nbformat": 4,
 "nbformat_minor": 0
}
