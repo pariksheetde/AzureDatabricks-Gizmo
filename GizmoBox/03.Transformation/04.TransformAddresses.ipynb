{
 "cells": [
  {
   "cell_type": "markdown",
   "metadata": {
    "application/vnd.databricks.v1+cell": {
     "cellMetadata": {
      "byteLimit": 2048000,
      "rowLimit": 10000
     },
     "inputWidgets": {},
     "nuid": "4d38b118-b7b3-4ce9-8639-99574d55757c",
     "showTitle": false,
     "tableResultSettingsMap": {},
     "title": ""
    }
   },
   "source": [
    "#### TRANSFORM `ADDRESS_TYPE` COLUMN FOR `SHIPPING & BILLING`"
   ]
  },
  {
   "cell_type": "code",
   "execution_count": 0,
   "metadata": {
    "application/vnd.databricks.v1+cell": {
     "cellMetadata": {
      "byteLimit": 2048000,
      "implicitDf": true,
      "rowLimit": 10000
     },
     "inputWidgets": {},
     "nuid": "5ef06a23-c9a4-4920-8b9d-bbd0c340881e",
     "showTitle": false,
     "tableResultSettingsMap": {},
     "title": ""
    }
   },
   "outputs": [],
   "source": [
    "%sql\n",
    "SELECT *\n",
    "FROM \n",
    "  (\n",
    "    SELECT\n",
    "    customer_id,\n",
    "    address_type,\n",
    "    address_line_1,\n",
    "    city,\n",
    "    state,\n",
    "    postcode\n",
    "    FROM\n",
    "    gizmobox_dev.bronze.addresses_vw\n",
    "  )\n",
    "  PIVOT(MAX(address_line_1) AS address_line_1,\n",
    "        MAX(city) AS city,\n",
    "        MAX(state) AS state,\n",
    "        MAX(postcode) AS postcode\n",
    "   FOR address_type IN ('shipping', 'billing')\n",
    "  )"
   ]
  },
  {
   "cell_type": "markdown",
   "metadata": {
    "application/vnd.databricks.v1+cell": {
     "cellMetadata": {
      "byteLimit": 2048000,
      "rowLimit": 10000
     },
     "inputWidgets": {},
     "nuid": "41e5ee13-aba3-478f-9709-84ebf5e4a6e2",
     "showTitle": false,
     "tableResultSettingsMap": {},
     "title": ""
    }
   },
   "source": [
    "#### LOAD TRANSFORMED DATA INTO SILVER SCHEMA AS DELTA TABLE"
   ]
  },
  {
   "cell_type": "code",
   "execution_count": 0,
   "metadata": {
    "application/vnd.databricks.v1+cell": {
     "cellMetadata": {
      "byteLimit": 2048000,
      "implicitDf": true,
      "rowLimit": 10000
     },
     "inputWidgets": {},
     "nuid": "9c05d2ee-619d-4c22-8d3c-f155c68e0ab0",
     "showTitle": false,
     "tableResultSettingsMap": {},
     "title": ""
    }
   },
   "outputs": [],
   "source": [
    "%sql\n",
    "CREATE TABLE IF NOT EXISTS gizmobox_dev.silver.addresses\n",
    "AS\n",
    "SELECT *\n",
    "FROM \n",
    "  (\n",
    "    SELECT\n",
    "    customer_id,\n",
    "    address_type,\n",
    "    address_line_1,\n",
    "    city,\n",
    "    state,\n",
    "    postcode\n",
    "    FROM\n",
    "    gizmobox_dev.bronze.addresses_vw\n",
    "  )\n",
    "  PIVOT(MAX(address_line_1) AS address_line_1,\n",
    "        MAX(city) AS city,\n",
    "        MAX(state) AS state,\n",
    "        MAX(postcode) AS postcode\n",
    "   FOR address_type IN ('shipping', 'billing')\n",
    "  )"
   ]
  },
  {
   "cell_type": "code",
   "execution_count": 0,
   "metadata": {
    "application/vnd.databricks.v1+cell": {
     "cellMetadata": {
      "byteLimit": 2048000,
      "implicitDf": true,
      "rowLimit": 10000
     },
     "inputWidgets": {},
     "nuid": "80e0eecd-b7eb-4265-ac9a-312aaa547a11",
     "showTitle": false,
     "tableResultSettingsMap": {},
     "title": ""
    }
   },
   "outputs": [],
   "source": [
    "%sql\n",
    "SELECT * FROM gizmobox_dev.silver.addresses LIMIT 10"
   ]
  },
  {
   "cell_type": "code",
   "execution_count": 0,
   "metadata": {
    "application/vnd.databricks.v1+cell": {
     "cellMetadata": {
      "byteLimit": 2048000,
      "rowLimit": 10000
     },
     "inputWidgets": {},
     "nuid": "b21626b1-d7f6-4689-9222-cf11173ae685",
     "showTitle": false,
     "tableResultSettingsMap": {},
     "title": ""
    }
   },
   "outputs": [],
   "source": [
    "dbutils.notebook.exit('ADDRESS TABLE HAS BEEN LOADED IN SILVER SCHEMA....')"
   ]
  }
 ],
 "metadata": {
  "application/vnd.databricks.v1+notebook": {
   "computePreferences": null,
   "dashboards": [],
   "environmentMetadata": {
    "base_environment": "",
    "environment_version": "2"
   },
   "inputWidgetPreferences": null,
   "language": "python",
   "notebookMetadata": {
    "mostRecentlyExecutedCommandWithImplicitDF": {
     "commandId": 7424244084684880,
     "dataframes": [
      "_sqldf"
     ]
    },
    "pythonIndentUnit": 4
   },
   "notebookName": "04.TransformAddresses",
   "widgets": {}
  },
  "language_info": {
   "name": "python"
  }
 },
 "nbformat": 4,
 "nbformat_minor": 0
}
