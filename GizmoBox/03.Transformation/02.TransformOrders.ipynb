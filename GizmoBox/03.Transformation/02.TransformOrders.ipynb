{
 "cells": [
  {
   "cell_type": "markdown",
   "metadata": {
    "application/vnd.databricks.v1+cell": {
     "cellMetadata": {
      "byteLimit": 2048000,
      "rowLimit": 10000
     },
     "inputWidgets": {},
     "nuid": "637462d1-ef47-4a46-a434-e6f1885592bd",
     "showTitle": false,
     "tableResultSettingsMap": {},
     "title": ""
    }
   },
   "source": [
    "#### REPLACE `order_date` COLUMN WITHIN DOUBLE QUOTES AS \"DOUBLE QUOTES\" WAS MISSING IN `order_date` COLUMN"
   ]
  },
  {
   "cell_type": "code",
   "execution_count": 0,
   "metadata": {
    "application/vnd.databricks.v1+cell": {
     "cellMetadata": {
      "byteLimit": 2048000,
      "implicitDf": true,
      "rowLimit": 10000
     },
     "inputWidgets": {},
     "nuid": "e8a85d07-bfd7-4561-83c4-4accba2c0cfe",
     "showTitle": false,
     "tableResultSettingsMap": {},
     "title": ""
    }
   },
   "outputs": [],
   "source": [
    "%sql\n",
    "SELECT\n",
    "value,\n",
    "regexp_replace(value, '\"order_date\": (\\\\d{4}-\\\\d{2}-\\\\d{2})', '\"order_date\": \"\\$1\"') AS fixed_value\n",
    "FROM\n",
    "gizmobox_dev.bronze.orders_vw"
   ]
  },
  {
   "cell_type": "markdown",
   "metadata": {
    "application/vnd.databricks.v1+cell": {
     "cellMetadata": {
      "byteLimit": 2048000,
      "rowLimit": 10000
     },
     "inputWidgets": {},
     "nuid": "3dd407c8-d6a4-4d90-96ad-5f48649000a2",
     "showTitle": false,
     "tableResultSettingsMap": {},
     "title": ""
    }
   },
   "source": [
    "#### LOAD THE TRANSFORMED DATA INTO TEMP VIEW"
   ]
  },
  {
   "cell_type": "code",
   "execution_count": 0,
   "metadata": {
    "application/vnd.databricks.v1+cell": {
     "cellMetadata": {
      "byteLimit": 2048000,
      "implicitDf": true,
      "rowLimit": 10000
     },
     "inputWidgets": {},
     "nuid": "5cded785-aab4-4e62-a6f9-26700b4f36d5",
     "showTitle": false,
     "tableResultSettingsMap": {},
     "title": ""
    }
   },
   "outputs": [],
   "source": [
    "%sql\n",
    "CREATE OR REPLACE TEMP VIEW orders_temp_vw AS\n",
    "SELECT\n",
    "value,\n",
    "regexp_replace(value, '\"order_date\": (\\\\d{4}-\\\\d{2}-\\\\d{2})', '\"order_date\": \"\\$1\"') AS fixed_value\n",
    "FROM\n",
    "gizmobox_dev.bronze.orders_vw"
   ]
  },
  {
   "cell_type": "markdown",
   "metadata": {
    "application/vnd.databricks.v1+cell": {
     "cellMetadata": {
      "byteLimit": 2048000,
      "rowLimit": 10000
     },
     "inputWidgets": {},
     "nuid": "91d6ea93-2015-4f0f-ba9c-cbf5025fcbc1",
     "showTitle": false,
     "tableResultSettingsMap": {},
     "title": ""
    }
   },
   "source": [
    "#### DEFINE / EXTRACT JSON DATA TYPE DYNAMICALLY FOR ALL ATTRIBUTES"
   ]
  },
  {
   "cell_type": "code",
   "execution_count": 0,
   "metadata": {
    "application/vnd.databricks.v1+cell": {
     "cellMetadata": {
      "byteLimit": 2048000,
      "implicitDf": true,
      "rowLimit": 10000
     },
     "inputWidgets": {},
     "nuid": "1f5e451c-6477-4ecb-a7ee-7133e0e703e5",
     "showTitle": false,
     "tableResultSettingsMap": {},
     "title": ""
    }
   },
   "outputs": [],
   "source": [
    "%sql\n",
    "SELECT\n",
    "schema_of_json(fixed_value) AS schema\n",
    "FROM\n",
    "orders_temp_vw"
   ]
  },
  {
   "cell_type": "markdown",
   "metadata": {
    "application/vnd.databricks.v1+cell": {
     "cellMetadata": {
      "byteLimit": 2048000,
      "rowLimit": 10000
     },
     "inputWidgets": {},
     "nuid": "c92e2454-27aa-491a-a21d-36c0da66ec55",
     "showTitle": false,
     "tableResultSettingsMap": {},
     "title": ""
    }
   },
   "source": [
    "#### LOAD TRANSFORMED DATA INTO SILVER SCHEMA AS DELTA TABLE"
   ]
  },
  {
   "cell_type": "code",
   "execution_count": 0,
   "metadata": {
    "application/vnd.databricks.v1+cell": {
     "cellMetadata": {
      "byteLimit": 2048000,
      "implicitDf": true,
      "rowLimit": 10000
     },
     "inputWidgets": {},
     "nuid": "cd88870a-b9e5-47c6-bfff-9954682f4bd6",
     "showTitle": false,
     "tableResultSettingsMap": {},
     "title": ""
    }
   },
   "outputs": [],
   "source": [
    "%sql\n",
    "CREATE TABLE IF NOT EXISTS gizmobox_dev.silver.orders_json\n",
    "AS\n",
    "SELECT from_json(fixed_value, 'STRUCT<customer_id: BIGINT, items: ARRAY<STRUCT<category: STRING, details: STRUCT<brand: STRING, color: STRING>, item_id: BIGINT, name: STRING, price: BIGINT, quantity: BIGINT>>, order_date: STRING, order_id: BIGINT, order_status: STRING, payment_method: STRING, total_amount: BIGINT, transaction_timestamp: STRING>') AS json_value\n",
    "FROM\n",
    "orders_temp_vw"
   ]
  },
  {
   "cell_type": "markdown",
   "metadata": {
    "application/vnd.databricks.v1+cell": {
     "cellMetadata": {
      "byteLimit": 2048000,
      "rowLimit": 10000
     },
     "inputWidgets": {},
     "nuid": "bc3b7883-f5c4-4524-8436-4cdc1952a43c",
     "showTitle": false,
     "tableResultSettingsMap": {},
     "title": ""
    }
   },
   "source": [
    "#### VALIDATE THE JSON OBJECT HAS BEEN LOADED INTO `ORDERS_JSON` TABLE. THIS TABLE IS USED AS FURTHER TRANSFORMATION"
   ]
  },
  {
   "cell_type": "code",
   "execution_count": 0,
   "metadata": {
    "application/vnd.databricks.v1+cell": {
     "cellMetadata": {
      "byteLimit": 2048000,
      "implicitDf": true,
      "rowLimit": 10000
     },
     "inputWidgets": {},
     "nuid": "241a4821-f147-4f78-af18-c4a95cd954f6",
     "showTitle": false,
     "tableResultSettingsMap": {},
     "title": ""
    }
   },
   "outputs": [],
   "source": [
    "%sql\n",
    "SELECT * FROM gizmobox_dev.silver.orders_json"
   ]
  },
  {
   "cell_type": "markdown",
   "metadata": {
    "application/vnd.databricks.v1+cell": {
     "cellMetadata": {
      "byteLimit": 2048000,
      "rowLimit": 10000
     },
     "inputWidgets": {},
     "nuid": "ced10a0d-4d15-46cd-9f40-36586c02b392",
     "showTitle": false,
     "tableResultSettingsMap": {},
     "title": ""
    }
   },
   "source": [
    "#### EXTRACT ALL THE JSON OBJECTS AS COLUMNS FROM ARRAY"
   ]
  },
  {
   "cell_type": "code",
   "execution_count": 0,
   "metadata": {
    "application/vnd.databricks.v1+cell": {
     "cellMetadata": {
      "byteLimit": 2048000,
      "implicitDf": true,
      "rowLimit": 10000
     },
     "inputWidgets": {},
     "nuid": "6184bf5f-9442-4348-a2e4-493831eb280f",
     "showTitle": false,
     "tableResultSettingsMap": {},
     "title": ""
    }
   },
   "outputs": [],
   "source": [
    "%sql\n",
    "SELECT\n",
    "json_value.customer_id::INT AS customer_id,\n",
    "json_value.order_id::INT AS order_id,\n",
    "json_value.order_date::DATE AS order_date,\n",
    "json_value.order_status::STRING AS order_status,\n",
    "json_value.payment_method::STRING AS payment_method,\n",
    "json_value.total_amount::INT AS total_amount,\n",
    "json_value.transaction_timestamp::TIMESTAMP AS transaction_timestamp,\n",
    "json_value.items\n",
    "FROM\n",
    "gizmobox_dev.silver.orders_json"
   ]
  },
  {
   "cell_type": "markdown",
   "metadata": {
    "application/vnd.databricks.v1+cell": {
     "cellMetadata": {
      "byteLimit": 2048000,
      "rowLimit": 10000
     },
     "inputWidgets": {},
     "nuid": "3c2f0721-d193-459b-8423-71dd4490cdbf",
     "showTitle": false,
     "tableResultSettingsMap": {},
     "title": ""
    }
   },
   "source": [
    "#### REMOVE DUPLICATES FORM ITEMS ARRAY"
   ]
  },
  {
   "cell_type": "code",
   "execution_count": 0,
   "metadata": {
    "application/vnd.databricks.v1+cell": {
     "cellMetadata": {
      "byteLimit": 2048000,
      "implicitDf": true,
      "rowLimit": 10000
     },
     "inputWidgets": {},
     "nuid": "224e5fbc-e48e-45ae-9ae1-add5d3e91fb4",
     "showTitle": false,
     "tableResultSettingsMap": {},
     "title": ""
    }
   },
   "outputs": [],
   "source": [
    "%sql\n",
    "SELECT\n",
    "json_value.customer_id::INT AS customer_id,\n",
    "json_value.order_id::INT AS order_id,\n",
    "json_value.order_date::DATE AS order_date,\n",
    "json_value.order_status::STRING AS order_status,\n",
    "json_value.payment_method::STRING AS payment_method,\n",
    "json_value.total_amount::INT AS total_amount,\n",
    "json_value.transaction_timestamp::TIMESTAMP AS transaction_timestamp,\n",
    "array_distinct(json_value.items)\n",
    "FROM\n",
    "gizmobox_dev.silver.orders_json"
   ]
  },
  {
   "cell_type": "markdown",
   "metadata": {
    "application/vnd.databricks.v1+cell": {
     "cellMetadata": {
      "byteLimit": 2048000,
      "rowLimit": 10000
     },
     "inputWidgets": {},
     "nuid": "9391c808-3689-432e-93be-102099dd99c6",
     "showTitle": false,
     "tableResultSettingsMap": {},
     "title": ""
    }
   },
   "source": [
    "#### EXPLODE ARRAY TO GET ALL THE ELEMENTS FROM ARRAY"
   ]
  },
  {
   "cell_type": "code",
   "execution_count": 0,
   "metadata": {
    "application/vnd.databricks.v1+cell": {
     "cellMetadata": {
      "byteLimit": 2048000,
      "implicitDf": true,
      "rowLimit": 10000
     },
     "inputWidgets": {},
     "nuid": "a4d9a2ed-38b7-4620-b67e-d0496a05c9b4",
     "showTitle": false,
     "tableResultSettingsMap": {},
     "title": ""
    }
   },
   "outputs": [],
   "source": [
    "%sql\n",
    "SELECT\n",
    "json_value.customer_id::INT AS customer_id,\n",
    "json_value.order_id::INT AS order_id,\n",
    "json_value.order_date::DATE AS order_date,\n",
    "json_value.order_status::STRING AS order_status,\n",
    "json_value.payment_method::STRING AS payment_method,\n",
    "json_value.total_amount::INT AS total_amount,\n",
    "json_value.transaction_timestamp::TIMESTAMP AS transaction_timestamp,\n",
    "explode(array_distinct(json_value.items)) AS item\n",
    "FROM\n",
    "gizmobox_dev.silver.orders_json"
   ]
  },
  {
   "cell_type": "markdown",
   "metadata": {
    "application/vnd.databricks.v1+cell": {
     "cellMetadata": {
      "byteLimit": 2048000,
      "rowLimit": 10000
     },
     "inputWidgets": {},
     "nuid": "4ef67f13-a98b-4930-ac23-733d0b2e71e6",
     "showTitle": false,
     "tableResultSettingsMap": {},
     "title": ""
    }
   },
   "source": [
    "#### LOAD THE ITEM EXPLODE INTO TEMP VIEW"
   ]
  },
  {
   "cell_type": "code",
   "execution_count": 0,
   "metadata": {
    "application/vnd.databricks.v1+cell": {
     "cellMetadata": {
      "byteLimit": 2048000,
      "implicitDf": true,
      "rowLimit": 10000
     },
     "inputWidgets": {},
     "nuid": "0daee50e-e8cc-4cd8-8e11-50693a933f60",
     "showTitle": false,
     "tableResultSettingsMap": {},
     "title": ""
    }
   },
   "outputs": [],
   "source": [
    "%sql\n",
    "CREATE OR REPLACE TEMP VIEW orders_item_explode_temp_vw\n",
    "AS\n",
    "SELECT\n",
    "json_value.customer_id::INT AS customer_id,\n",
    "json_value.order_id::INT AS order_id,\n",
    "json_value.order_date::DATE AS order_date,\n",
    "json_value.order_status::STRING AS order_status,\n",
    "json_value.payment_method::STRING AS payment_method,\n",
    "json_value.total_amount::INT AS total_amount,\n",
    "json_value.transaction_timestamp::TIMESTAMP AS transaction_timestamp,\n",
    "explode(array_distinct(json_value.items)) AS item\n",
    "FROM\n",
    "gizmobox_dev.silver.orders_json"
   ]
  },
  {
   "cell_type": "markdown",
   "metadata": {
    "application/vnd.databricks.v1+cell": {
     "cellMetadata": {
      "byteLimit": 2048000,
      "rowLimit": 10000
     },
     "inputWidgets": {},
     "nuid": "3b310ae7-b779-4f78-8942-ef02e8e0bf26",
     "showTitle": false,
     "tableResultSettingsMap": {},
     "title": ""
    }
   },
   "source": [
    "#### EXTRACT ALL THE REQUIRED COLUMNS FROM TEMP VIEW"
   ]
  },
  {
   "cell_type": "code",
   "execution_count": 0,
   "metadata": {
    "application/vnd.databricks.v1+cell": {
     "cellMetadata": {
      "byteLimit": 2048000,
      "implicitDf": true,
      "rowLimit": 10000
     },
     "inputWidgets": {},
     "nuid": "4d5b07f1-c806-4598-83cf-95b1f177c803",
     "showTitle": false,
     "tableResultSettingsMap": {
      "0": {
       "dataGridStateBlob": "{\"version\":1,\"tableState\":{\"columnPinning\":{\"left\":[\"#row_number#\"],\"right\":[]},\"columnSizing\":{},\"columnVisibility\":{}},\"settings\":{\"columns\":{}},\"syncTimestamp\":1752744501315}",
       "filterBlob": null,
       "queryPlanFiltersBlob": null,
       "tableResultIndex": 0
      }
     },
     "title": ""
    }
   },
   "outputs": [],
   "source": [
    "%sql\n",
    "SELECT\n",
    "customer_id,\n",
    "order_id,\n",
    "order_date,\n",
    "order_status,\n",
    "payment_method,\n",
    "total_amount,\n",
    "transaction_timestamp,\n",
    "item.category,\n",
    "item.item_id,\n",
    "item.name,\n",
    "item.price,\n",
    "item.quantity,\n",
    "item.details.brand,\n",
    "item.details.color\n",
    "FROM\n",
    "orders_item_explode_temp_vw"
   ]
  },
  {
   "cell_type": "markdown",
   "metadata": {
    "application/vnd.databricks.v1+cell": {
     "cellMetadata": {
      "byteLimit": 2048000,
      "rowLimit": 10000
     },
     "inputWidgets": {},
     "nuid": "e0f25d1d-8f9b-4c1d-b024-a49c0772bfc7",
     "showTitle": false,
     "tableResultSettingsMap": {},
     "title": ""
    }
   },
   "source": [
    "#### LOAD TRANSFORMED DATA INTO SILVER SCHEMA AS DELTA TABLE"
   ]
  },
  {
   "cell_type": "code",
   "execution_count": 0,
   "metadata": {
    "application/vnd.databricks.v1+cell": {
     "cellMetadata": {
      "byteLimit": 2048000,
      "implicitDf": true,
      "rowLimit": 10000
     },
     "inputWidgets": {},
     "nuid": "c9acf459-a22f-4f19-b80c-0c5c32af6e92",
     "showTitle": false,
     "tableResultSettingsMap": {},
     "title": ""
    }
   },
   "outputs": [],
   "source": [
    "%sql\n",
    "CREATE TABLE IF NOT EXISTS gizmobox_dev.silver.orders\n",
    "AS\n",
    "SELECT\n",
    "customer_id,\n",
    "order_id,\n",
    "order_date,\n",
    "order_status,\n",
    "payment_method,\n",
    "total_amount,\n",
    "transaction_timestamp,\n",
    "item.category,\n",
    "item.item_id,\n",
    "item.name,\n",
    "item.price,\n",
    "item.quantity,\n",
    "item.details.brand,\n",
    "item.details.color\n",
    "FROM\n",
    "orders_item_explode_temp_vw"
   ]
  },
  {
   "cell_type": "markdown",
   "metadata": {
    "application/vnd.databricks.v1+cell": {
     "cellMetadata": {
      "byteLimit": 2048000,
      "rowLimit": 10000
     },
     "inputWidgets": {},
     "nuid": "3d855efe-8490-4bd7-8e9b-e508ab6212f3",
     "showTitle": false,
     "tableResultSettingsMap": {},
     "title": ""
    }
   },
   "source": [
    "#### VALIDATE RECORDS HAVE BEEN LOADED INTO `GIZMOBOX_DEV.SILVER.ORDERS`"
   ]
  },
  {
   "cell_type": "code",
   "execution_count": 0,
   "metadata": {
    "application/vnd.databricks.v1+cell": {
     "cellMetadata": {
      "byteLimit": 2048000,
      "implicitDf": true,
      "rowLimit": 10000
     },
     "inputWidgets": {},
     "nuid": "d6b8c3da-254e-43c5-9ef8-e82342b23b7d",
     "showTitle": false,
     "tableResultSettingsMap": {},
     "title": ""
    }
   },
   "outputs": [],
   "source": [
    "%sql\n",
    "SELECT * FROM gizmobox_dev.silver.orders LIMIT 10"
   ]
  },
  {
   "cell_type": "code",
   "execution_count": 0,
   "metadata": {
    "application/vnd.databricks.v1+cell": {
     "cellMetadata": {
      "byteLimit": 2048000,
      "rowLimit": 10000
     },
     "inputWidgets": {},
     "nuid": "cc4b8af1-9c94-43ba-b2dd-3f5017b7e29b",
     "showTitle": false,
     "tableResultSettingsMap": {},
     "title": ""
    }
   },
   "outputs": [],
   "source": [
    "dbutils.notebook.exit('ORDERS TABLE HAS BEEN LOADED IN SILVER SCHEMA....')"
   ]
  }
 ],
 "metadata": {
  "application/vnd.databricks.v1+notebook": {
   "computePreferences": null,
   "dashboards": [],
   "environmentMetadata": {
    "base_environment": "",
    "environment_version": "2"
   },
   "inputWidgetPreferences": null,
   "language": "python",
   "notebookMetadata": {
    "mostRecentlyExecutedCommandWithImplicitDF": {
     "commandId": 6099654109277162,
     "dataframes": [
      "_sqldf"
     ]
    },
    "pythonIndentUnit": 4
   },
   "notebookName": "02.TransformOrders",
   "widgets": {}
  },
  "language_info": {
   "name": "python"
  }
 },
 "nbformat": 4,
 "nbformat_minor": 0
}
