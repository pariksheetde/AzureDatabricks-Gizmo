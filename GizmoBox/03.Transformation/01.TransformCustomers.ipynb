{
 "cells": [
  {
   "cell_type": "markdown",
   "metadata": {
    "application/vnd.databricks.v1+cell": {
     "cellMetadata": {
      "byteLimit": 2048000,
      "rowLimit": 10000
     },
     "inputWidgets": {},
     "nuid": "b84d88df-a5ad-4a81-8adf-b6651440c9c6",
     "showTitle": false,
     "tableResultSettingsMap": {},
     "title": ""
    }
   },
   "source": [
    "#### PROFILE THE DATASET FROM `GIZMOBOX_DEV.BRONZE.CUSTOMERS_VW`\n",
    "- CHANGE DATATYPE FOR `CREATED_TIMESTAMP`\n",
    "- CHANGE DATATYPE FOR `DATE_OF_BIRTH`\n",
    "- CHANGE DATATYPE FOR `MEMBER_SINCE`"
   ]
  },
  {
   "cell_type": "markdown",
   "metadata": {
    "application/vnd.databricks.v1+cell": {
     "cellMetadata": {
      "byteLimit": 2048000,
      "rowLimit": 10000
     },
     "inputWidgets": {},
     "nuid": "58b50f90-45b3-4dc3-a74f-eaf2a3562c68",
     "showTitle": false,
     "tableResultSettingsMap": {},
     "title": ""
    }
   },
   "source": [
    "%md\n",
    "#### TRANSFORM `CUSTOMERS` DATA\n",
    "- 1. CONVERT `created_timestamp` TO TIMESTAMP DATATYPE"
   ]
  },
  {
   "cell_type": "code",
   "execution_count": 0,
   "metadata": {
    "application/vnd.databricks.v1+cell": {
     "cellMetadata": {
      "byteLimit": 2048000,
      "implicitDf": true,
      "rowLimit": 10000
     },
     "inputWidgets": {},
     "nuid": "8195b4dc-519e-4a4b-bfbe-f15d8f571b89",
     "showTitle": false,
     "tableResultSettingsMap": {
      "0": {
       "dataGridStateBlob": "{\"version\":1,\"tableState\":{\"columnPinning\":{\"left\":[\"#row_number#\"],\"right\":[]},\"columnSizing\":{},\"columnVisibility\":{}},\"settings\":{\"columns\":{}},\"syncTimestamp\":1752468560097}",
       "filterBlob": null,
       "queryPlanFiltersBlob": null,
       "tableResultIndex": 0
      }
     },
     "title": ""
    }
   },
   "outputs": [],
   "source": [
    "%sql\n",
    "SELECT\n",
    "CAST(created_timestamp AS TIMESTAMP) AS created_timestamp,\n",
    "customer_id,\n",
    "customer_name,\n",
    "CAST(date_of_birth AS DATE) AS date_of_birth,\n",
    "email,\n",
    "CAST(member_since AS DATE) AS member_since,\n",
    "telephone,\n",
    "file_path,\n",
    "file_name,\n",
    "file_modification_time\n",
    "FROM\n",
    "(\n",
    "    SELECT DISTINCT *\n",
    "    ,RANK() OVER(PARTITION BY customer_id ORDER BY created_timestamp DESC) AS rnk\n",
    "    FROM gizmobox_dev.bronze.customers_vw\n",
    "                                    WHERE customer_id IS NOT NULL\n",
    "                                    ORDER BY customer_id ASC) \n",
    "WHERE rnk = 1;"
   ]
  },
  {
   "cell_type": "markdown",
   "metadata": {
    "application/vnd.databricks.v1+cell": {
     "cellMetadata": {
      "byteLimit": 2048000,
      "rowLimit": 10000
     },
     "inputWidgets": {},
     "nuid": "bfa9ee5d-bcd9-4160-8ddc-4aa4dbee7c15",
     "showTitle": false,
     "tableResultSettingsMap": {},
     "title": ""
    }
   },
   "source": [
    "#### LOAD TRANSFORMED DATA INTO SILVER SCHEMA AS DELTA TABLE"
   ]
  },
  {
   "cell_type": "code",
   "execution_count": 0,
   "metadata": {
    "application/vnd.databricks.v1+cell": {
     "cellMetadata": {
      "byteLimit": 2048000,
      "implicitDf": true,
      "rowLimit": 10000
     },
     "inputWidgets": {},
     "nuid": "c0f71787-bcb8-4705-813f-e488f75a071e",
     "showTitle": false,
     "tableResultSettingsMap": {},
     "title": ""
    }
   },
   "outputs": [],
   "source": [
    "%sql\n",
    "CREATE TABLE IF NOT EXISTS gizmobox_dev.silver.customers\n",
    "AS\n",
    "SELECT\n",
    "CAST(created_timestamp AS TIMESTAMP) AS created_timestamp,\n",
    "customer_id,\n",
    "customer_name,\n",
    "CAST(date_of_birth AS DATE) AS date_of_birth,\n",
    "email,\n",
    "CAST(member_since AS DATE) AS member_since,\n",
    "telephone,\n",
    "file_path,\n",
    "file_name,\n",
    "file_modification_time\n",
    "FROM\n",
    "(\n",
    "    SELECT DISTINCT *\n",
    "    ,RANK() OVER(PARTITION BY customer_id ORDER BY created_timestamp DESC) AS rnk\n",
    "    FROM gizmobox_dev.bronze.customers_vw\n",
    "                                    WHERE customer_id IS NOT NULL\n",
    "                                    ORDER BY customer_id ASC) \n",
    "WHERE rnk = 1;"
   ]
  },
  {
   "cell_type": "code",
   "execution_count": 0,
   "metadata": {
    "application/vnd.databricks.v1+cell": {
     "cellMetadata": {
      "byteLimit": 2048000,
      "implicitDf": true,
      "rowLimit": 10000
     },
     "inputWidgets": {},
     "nuid": "335a5535-5daf-47a6-9fcc-64afb8cd4c73",
     "showTitle": false,
     "tableResultSettingsMap": {},
     "title": ""
    }
   },
   "outputs": [],
   "source": [
    "%sql\n",
    "SELECT * FROM gizmobox_dev.silver.customers LIMIT 10"
   ]
  },
  {
   "cell_type": "code",
   "execution_count": 0,
   "metadata": {
    "application/vnd.databricks.v1+cell": {
     "cellMetadata": {
      "byteLimit": 2048000,
      "implicitDf": true,
      "rowLimit": 10000
     },
     "inputWidgets": {},
     "nuid": "9d543e48-6483-48a4-9442-b57668692b0c",
     "showTitle": false,
     "tableResultSettingsMap": {},
     "title": ""
    }
   },
   "outputs": [],
   "source": [
    "%sql\n",
    "DESC EXTENDED gizmobox_dev.silver.customers"
   ]
  },
  {
   "cell_type": "code",
   "execution_count": 0,
   "metadata": {
    "application/vnd.databricks.v1+cell": {
     "cellMetadata": {
      "byteLimit": 2048000,
      "rowLimit": 10000
     },
     "inputWidgets": {},
     "nuid": "83bef2e8-309a-4f6d-a57a-f0b196ed869c",
     "showTitle": false,
     "tableResultSettingsMap": {},
     "title": ""
    }
   },
   "outputs": [],
   "source": [
    "dbutils.notebook.exit('CUSTOMERS TABLE HAS BEEN LOADED IN SILVER SCHEMA....')"
   ]
  }
 ],
 "metadata": {
  "application/vnd.databricks.v1+notebook": {
   "computePreferences": null,
   "dashboards": [],
   "environmentMetadata": {
    "base_environment": "",
    "environment_version": "2"
   },
   "inputWidgetPreferences": null,
   "language": "python",
   "notebookMetadata": {
    "mostRecentlyExecutedCommandWithImplicitDF": {
     "commandId": 7692433569104564,
     "dataframes": [
      "_sqldf"
     ]
    },
    "pythonIndentUnit": 4
   },
   "notebookName": "01.TransformCustomers",
   "widgets": {}
  },
  "language_info": {
   "name": "python"
  }
 },
 "nbformat": 4,
 "nbformat_minor": 0
}
