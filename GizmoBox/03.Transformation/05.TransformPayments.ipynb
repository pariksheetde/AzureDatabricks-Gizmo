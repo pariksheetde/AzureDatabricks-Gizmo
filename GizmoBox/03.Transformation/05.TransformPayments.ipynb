{
 "cells": [
  {
   "cell_type": "markdown",
   "metadata": {
    "application/vnd.databricks.v1+cell": {
     "cellMetadata": {
      "byteLimit": 2048000,
      "rowLimit": 10000
     },
     "inputWidgets": {},
     "nuid": "4e68fb7b-a52c-4a2a-9291-10c0a289b2be",
     "showTitle": false,
     "tableResultSettingsMap": {},
     "title": ""
    }
   },
   "source": [
    "#### TRANSFORM `PAYMENTS` DATA\n",
    "- Map payment_status to contain descriptive values\n",
    "(1-Success, 2-Pending, 3-Cancelled, 4-Failed)\n",
    "- Write transformed data to Silver schema \n"
   ]
  },
  {
   "cell_type": "code",
   "execution_count": 0,
   "metadata": {
    "application/vnd.databricks.v1+cell": {
     "cellMetadata": {
      "byteLimit": 2048000,
      "implicitDf": true,
      "rowLimit": 10000
     },
     "inputWidgets": {},
     "nuid": "8359c77c-8299-445c-993d-7999eab1c1c6",
     "showTitle": false,
     "tableResultSettingsMap": {
      "0": {
       "dataGridStateBlob": "{\"version\":1,\"tableState\":{\"columnPinning\":{\"left\":[\"#row_number#\"],\"right\":[]},\"columnSizing\":{\"payment_date\":336},\"columnVisibility\":{}},\"settings\":{\"columns\":{}},\"syncTimestamp\":1752491083293}",
       "filterBlob": null,
       "queryPlanFiltersBlob": null,
       "tableResultIndex": 0
      }
     },
     "title": ""
    }
   },
   "outputs": [],
   "source": [
    "%sql\n",
    "SELECT * FROM gizmobox_dev.bronze.payments_external LIMIT 10"
   ]
  },
  {
   "cell_type": "markdown",
   "metadata": {
    "application/vnd.databricks.v1+cell": {
     "cellMetadata": {
      "byteLimit": 2048000,
      "rowLimit": 10000
     },
     "inputWidgets": {},
     "nuid": "a0b9cd28-d20d-4cfa-a408-0aa0ef5da283",
     "showTitle": false,
     "tableResultSettingsMap": {},
     "title": ""
    }
   },
   "source": [
    "#### CREATE FUNCTION TO EXTRACT `PAYMENT_STATUS`"
   ]
  },
  {
   "cell_type": "code",
   "execution_count": 0,
   "metadata": {
    "application/vnd.databricks.v1+cell": {
     "cellMetadata": {
      "byteLimit": 2048000,
      "implicitDf": true,
      "rowLimit": 10000
     },
     "inputWidgets": {},
     "nuid": "9f1474f1-1370-4bbd-bdcd-8c895ca81bd3",
     "showTitle": false,
     "tableResultSettingsMap": {},
     "title": ""
    }
   },
   "outputs": [],
   "source": [
    "%sql\n",
    "CREATE FUNCTION IF NOT EXISTS gizmobox_dev.default.get_payment_status(payment_status INT)\n",
    "RETURNS STRING\n",
    "RETURN CASE \n",
    "  WHEN payment_status = 1 THEN 'SUCCESS'\n",
    "  WHEN payment_status = 2 THEN 'PENDING'\n",
    "  WHEN payment_status = 3 THEN 'CANCELLED'\n",
    "  WHEN payment_status = 4 THEN 'FAILED'\n",
    "  ELSE 'UNKNOWN' END"
   ]
  },
  {
   "cell_type": "code",
   "execution_count": 0,
   "metadata": {
    "application/vnd.databricks.v1+cell": {
     "cellMetadata": {
      "byteLimit": 2048000,
      "implicitDf": true,
      "rowLimit": 10000
     },
     "inputWidgets": {},
     "nuid": "86553740-98d4-4206-87d1-52d64311c9df",
     "showTitle": false,
     "tableResultSettingsMap": {},
     "title": ""
    }
   },
   "outputs": [],
   "source": [
    "%sql\n",
    "DESC FUNCTION EXTENDED gizmobox_dev.default.get_payment_status"
   ]
  },
  {
   "cell_type": "code",
   "execution_count": 0,
   "metadata": {
    "application/vnd.databricks.v1+cell": {
     "cellMetadata": {
      "byteLimit": 2048000,
      "implicitDf": true,
      "rowLimit": 10000
     },
     "inputWidgets": {},
     "nuid": "f2d83d14-93fd-46ef-83f7-83367e6f1018",
     "showTitle": false,
     "tableResultSettingsMap": {},
     "title": ""
    }
   },
   "outputs": [],
   "source": [
    "%sql\n",
    "SELECT\n",
    "payment_id,\n",
    "customer_id,\n",
    "CAST(date_format(payment_date, 'yyyy-MM-dd') AS DATE) AS payment_date,\n",
    "date_format(payment_date, 'HH:mm:ss') AS payment_time,\n",
    "payment_status,\n",
    "CASE \n",
    "  WHEN payment_status = 1 THEN 'SUCCESS'\n",
    "  WHEN payment_status = 2 THEN 'PENDING'\n",
    "  WHEN payment_status = 3 THEN 'CANCELLED'\n",
    "  WHEN payment_status = 4 THEN 'FAILED'\n",
    "  ELSE 'UNKNOWN' END AS payment_status_description,\n",
    "  gizmobox_dev.default.get_payment_status(payment_status) AS payment_status_details,\n",
    "payment_method\n",
    "FROM\n",
    "gizmobox_dev.bronze.payments_external"
   ]
  },
  {
   "cell_type": "markdown",
   "metadata": {
    "application/vnd.databricks.v1+cell": {
     "cellMetadata": {
      "byteLimit": 2048000,
      "rowLimit": 10000
     },
     "inputWidgets": {},
     "nuid": "7cdd41de-34d6-48a6-9346-3de3cb41da38",
     "showTitle": false,
     "tableResultSettingsMap": {},
     "title": ""
    }
   },
   "source": [
    "#### LOAD TRANSFORMED DATA INTO SILVER SCHEMA AS DELTA TABLE"
   ]
  },
  {
   "cell_type": "code",
   "execution_count": 0,
   "metadata": {
    "application/vnd.databricks.v1+cell": {
     "cellMetadata": {
      "byteLimit": 2048000,
      "implicitDf": true,
      "rowLimit": 10000
     },
     "inputWidgets": {},
     "nuid": "a1d5dcdb-d53f-4f2d-a6da-89e47cad3e18",
     "showTitle": false,
     "tableResultSettingsMap": {},
     "title": ""
    }
   },
   "outputs": [],
   "source": [
    "%sql\n",
    "CREATE TABLE IF NOT EXISTS gizmobox_dev.silver.payments\n",
    "AS\n",
    "SELECT\n",
    "payment_id,\n",
    "customer_id,\n",
    "date_format(payment_date, 'dd-MM-yyyy') AS payment_date,\n",
    "date_format(payment_date, 'HH:mm:ss') AS payment_time,\n",
    "payment_status,\n",
    "CASE \n",
    "  WHEN payment_status = 1 THEN 'SUCCESS'\n",
    "  WHEN payment_status = 2 THEN 'PENDING'\n",
    "  WHEN payment_status = 3 THEN 'CANCELLED'\n",
    "  WHEN payment_status = 4 THEN 'FAILED'\n",
    "  ELSE 'UNKNOWN' END AS payment_status_description,\n",
    "payment_method\n",
    "FROM\n",
    "gizmobox_dev.bronze.payments_external"
   ]
  },
  {
   "cell_type": "code",
   "execution_count": 0,
   "metadata": {
    "application/vnd.databricks.v1+cell": {
     "cellMetadata": {
      "byteLimit": 2048000,
      "implicitDf": true,
      "rowLimit": 10000
     },
     "inputWidgets": {},
     "nuid": "c336899c-bf32-490a-8b9e-9220ade9f1cc",
     "showTitle": false,
     "tableResultSettingsMap": {},
     "title": ""
    }
   },
   "outputs": [],
   "source": [
    "%sql\n",
    "SELECT * FROM gizmobox_dev.silver.payments LIMIT 10"
   ]
  },
  {
   "cell_type": "code",
   "execution_count": 0,
   "metadata": {
    "application/vnd.databricks.v1+cell": {
     "cellMetadata": {
      "byteLimit": 2048000,
      "rowLimit": 10000
     },
     "inputWidgets": {},
     "nuid": "a58003b3-d989-465f-b6f1-67412a71b139",
     "showTitle": false,
     "tableResultSettingsMap": {},
     "title": ""
    }
   },
   "outputs": [],
   "source": [
    "dbutils.notebook.exit('PAYMENTS TABLE HAS BEEN LOADED IN SILVER SCHEMA....')"
   ]
  }
 ],
 "metadata": {
  "application/vnd.databricks.v1+notebook": {
   "computePreferences": null,
   "dashboards": [],
   "environmentMetadata": {
    "base_environment": "",
    "environment_version": "2"
   },
   "inputWidgetPreferences": null,
   "language": "python",
   "notebookMetadata": {
    "mostRecentlyExecutedCommandWithImplicitDF": {
     "commandId": 5697782000926537,
     "dataframes": [
      "_sqldf"
     ]
    },
    "pythonIndentUnit": 4
   },
   "notebookName": "05.TransformPayments",
   "widgets": {}
  },
  "language_info": {
   "name": "python"
  }
 },
 "nbformat": 4,
 "nbformat_minor": 0
}
