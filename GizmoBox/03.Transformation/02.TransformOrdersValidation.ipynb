{
 "cells": [
  {
   "cell_type": "markdown",
   "metadata": {
    "application/vnd.databricks.v1+cell": {
     "cellMetadata": {
      "byteLimit": 2048000,
      "rowLimit": 10000
     },
     "inputWidgets": {},
     "nuid": "9a5d628d-6a47-44ac-91e0-1db8bb8949c4",
     "showTitle": false,
     "tableResultSettingsMap": {},
     "title": ""
    }
   },
   "source": [
    "#### EXTRACT TOP LEVEL COLUMN VALUE FROM JSON"
   ]
  },
  {
   "cell_type": "code",
   "execution_count": 0,
   "metadata": {
    "application/vnd.databricks.v1+cell": {
     "cellMetadata": {
      "byteLimit": 2048000,
      "implicitDf": true,
      "rowLimit": 10000
     },
     "inputWidgets": {},
     "nuid": "c80f3c0f-a4d5-4c2f-95a4-b0c2ac200dea",
     "showTitle": false,
     "tableResultSettingsMap": {
      "0": {
       "dataGridStateBlob": "{\"version\":1,\"tableState\":{\"columnPinning\":{\"left\":[\"#row_number#\"],\"right\":[]},\"columnSizing\":{},\"columnVisibility\":{}},\"settings\":{\"columns\":{}},\"syncTimestamp\":1752671907731}",
       "filterBlob": null,
       "queryPlanFiltersBlob": null,
       "tableResultIndex": 0
      }
     },
     "title": ""
    }
   },
   "outputs": [],
   "source": [
    "%sql\n",
    "SELECT\n",
    "value,\n",
    "value:order_id::INT AS order_id,\n",
    "value:customer_id::INT AS customer_id,\n",
    "value:order_date::DATE AS order_date,\n",
    "value:transaction_timestamp::TIMESTAMP AS transaction_timestamp,\n",
    "value:total_amount::DECIMAL AS total_amount,\n",
    "value:payment_method::STRING AS payment_method\n",
    "FROM\n",
    "gizmobox_dev.bronze.orders_vw"
   ]
  },
  {
   "cell_type": "markdown",
   "metadata": {
    "application/vnd.databricks.v1+cell": {
     "cellMetadata": {
      "byteLimit": 2048000,
      "rowLimit": 10000
     },
     "inputWidgets": {},
     "nuid": "29573338-740f-4c34-8803-a5a55467669d",
     "showTitle": false,
     "tableResultSettingsMap": {},
     "title": ""
    }
   },
   "source": [
    "#### EXTRACT `1st ARRAY ELEMENTS` FROM JSON"
   ]
  },
  {
   "cell_type": "code",
   "execution_count": 0,
   "metadata": {
    "application/vnd.databricks.v1+cell": {
     "cellMetadata": {
      "byteLimit": 2048000,
      "implicitDf": true,
      "rowLimit": 10000
     },
     "inputWidgets": {},
     "nuid": "1832dd9b-4ab3-48cd-a318-d3a31238f61a",
     "showTitle": false,
     "tableResultSettingsMap": {
      "0": {
       "dataGridStateBlob": "{\"version\":1,\"tableState\":{\"columnPinning\":{\"left\":[\"#row_number#\"],\"right\":[]},\"columnSizing\":{},\"columnVisibility\":{}},\"settings\":{\"columns\":{}},\"syncTimestamp\":1752672243720}",
       "filterBlob": null,
       "queryPlanFiltersBlob": null,
       "tableResultIndex": 0
      }
     },
     "title": ""
    }
   },
   "outputs": [],
   "source": [
    "%sql\n",
    "SELECT\n",
    "value,\n",
    "value:order_id::INT AS order_id,\n",
    "value:customer_id::INT AS customer_id,\n",
    "value:order_date::DATE AS order_date,\n",
    "value:transaction_timestamp::TIMESTAMP AS transaction_timestamp,\n",
    "value:total_amount::DECIMAL AS total_amount,\n",
    "value:payment_method::STRING AS payment_method,\n",
    "value:items[0].item_id AS first_item_id,\n",
    "value:items[0].name AS first_name,\n",
    "value:items[0].category AS first_category,\n",
    "value:items[0].price AS first_price,\n",
    "value:items[0].quantity AS first_quantity\n",
    "FROM\n",
    "gizmobox_dev.bronze.orders_vw"
   ]
  },
  {
   "cell_type": "markdown",
   "metadata": {
    "application/vnd.databricks.v1+cell": {
     "cellMetadata": {
      "byteLimit": 2048000,
      "rowLimit": 10000
     },
     "inputWidgets": {},
     "nuid": "ff605db7-651b-4b81-a55e-4be2d97daf1c",
     "showTitle": false,
     "tableResultSettingsMap": {},
     "title": ""
    }
   },
   "source": [
    "#### EXTRACT 2nd ARRAY ELEMENTS FROM JSON"
   ]
  },
  {
   "cell_type": "code",
   "execution_count": 0,
   "metadata": {
    "application/vnd.databricks.v1+cell": {
     "cellMetadata": {
      "byteLimit": 2048000,
      "implicitDf": true,
      "rowLimit": 10000
     },
     "inputWidgets": {},
     "nuid": "7d18622e-cfab-46f6-b850-d6fdcc669d0c",
     "showTitle": false,
     "tableResultSettingsMap": {},
     "title": ""
    }
   },
   "outputs": [],
   "source": [
    "%sql\n",
    "SELECT\n",
    "value,\n",
    "value:order_id::INT AS order_id,\n",
    "value:customer_id::INT AS customer_id,\n",
    "value:order_date::DATE AS order_date,\n",
    "value:transaction_timestamp::TIMESTAMP AS transaction_timestamp,\n",
    "value:total_amount::DECIMAL AS total_amount,\n",
    "value:payment_method::STRING AS payment_method,\n",
    "value:items[0].item_id::INTEGER AS first_item_id,\n",
    "value:items[0].name::STRING AS first_name,\n",
    "value:items[0].category::STRING AS first_category,\n",
    "value:items[0].price::DOUBLE AS first_price,\n",
    "value:items[0].quantity::INTEGER AS first_quantity,\n",
    "\n",
    "value:items[1].item_id::INTEGER AS second_item_id,\n",
    "value:items[1].name::STRING AS second_name,\n",
    "value:items[1].category::STRING AS second_category,\n",
    "value:items[1].price::DOUBLE AS second_price,\n",
    "value:items[1].quantity::INTEGER AS second_quantity\n",
    "FROM\n",
    "gizmobox_dev.bronze.orders_vw"
   ]
  }
 ],
 "metadata": {
  "application/vnd.databricks.v1+notebook": {
   "computePreferences": null,
   "dashboards": [],
   "environmentMetadata": {
    "base_environment": "",
    "environment_version": "2"
   },
   "inputWidgetPreferences": null,
   "language": "python",
   "notebookMetadata": {
    "mostRecentlyExecutedCommandWithImplicitDF": {
     "commandId": 7895702392265810,
     "dataframes": [
      "_sqldf"
     ]
    },
    "pythonIndentUnit": 4
   },
   "notebookName": "02.TransformOrdersValidation",
   "widgets": {}
  },
  "language_info": {
   "name": "python"
  }
 },
 "nbformat": 4,
 "nbformat_minor": 0
}
