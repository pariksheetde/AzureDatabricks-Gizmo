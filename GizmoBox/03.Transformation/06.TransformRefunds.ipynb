{
 "cells": [
  {
   "cell_type": "markdown",
   "metadata": {
    "application/vnd.databricks.v1+cell": {
     "cellMetadata": {
      "byteLimit": 2048000,
      "rowLimit": 10000
     },
     "inputWidgets": {},
     "nuid": "80d23d60-8e63-477d-b0e3-bdf7e74647e8",
     "showTitle": false,
     "tableResultSettingsMap": {},
     "title": ""
    }
   },
   "source": [
    "#### TRANSFORM `REFUNDS` DATA\n",
    "- 1. CONVERT `refund_timestamp` TO TIMESTAMP DATATYPE\n",
    "- 2. DERIVE `REFUND_REASON, REFUND_TIME` FROM `REFUND_REASON` COLUMN "
   ]
  },
  {
   "cell_type": "code",
   "execution_count": 0,
   "metadata": {
    "application/vnd.databricks.v1+cell": {
     "cellMetadata": {
      "byteLimit": 2048000,
      "implicitDf": true,
      "rowLimit": 10000
     },
     "inputWidgets": {},
     "nuid": "b73badb2-3524-4b29-8953-b91f5ee0392d",
     "showTitle": false,
     "tableResultSettingsMap": {},
     "title": ""
    }
   },
   "outputs": [],
   "source": [
    "%sql\n",
    "SELECT\n",
    "refund_id,\n",
    "payment_id,\n",
    "CAST(date_format(refund_timestamp, 'yyyy-MM-dd') AS DATE) AS refund_date,\n",
    "date_format(refund_timestamp, 'HH24:mm:ss') AS refund_time, \n",
    "refund_amount,\n",
    "split(refund_reason,':')[0] AS refund_reason,\n",
    "split(refund_reason,':')[1] AS refund_source,\n",
    "regexp_extract(refund_reason, '^([^:]+):', 1) AS refund_reason,\n",
    "regexp_extract(refund_reason, '^[^:]+:(.*)$', 1) AS refund_source\n",
    "FROM\n",
    "hive_metastore.bronze.refunds;"
   ]
  },
  {
   "cell_type": "markdown",
   "metadata": {
    "application/vnd.databricks.v1+cell": {
     "cellMetadata": {
      "byteLimit": 2048000,
      "rowLimit": 10000
     },
     "inputWidgets": {},
     "nuid": "88920d9d-9887-431c-ae26-21eeca69ee50",
     "showTitle": false,
     "tableResultSettingsMap": {},
     "title": ""
    }
   },
   "source": [
    "#### LOAD TRANSFORMED DATA INTO SILVER SCHEMA AS DELTA TABLE"
   ]
  },
  {
   "cell_type": "code",
   "execution_count": 0,
   "metadata": {
    "application/vnd.databricks.v1+cell": {
     "cellMetadata": {
      "byteLimit": 2048000,
      "implicitDf": true,
      "rowLimit": 10000
     },
     "inputWidgets": {},
     "nuid": "e6fa220c-b25d-465f-ba97-f59402fc9076",
     "showTitle": false,
     "tableResultSettingsMap": {},
     "title": ""
    }
   },
   "outputs": [],
   "source": [
    "%sql\n",
    "CREATE TABLE IF NOT EXISTS gizmobox_dev.silver.refunds\n",
    "AS\n",
    "SELECT\n",
    "refund_id,\n",
    "payment_id,\n",
    "CAST(date_format(refund_timestamp, 'yyyy-MM-dd') AS DATE) AS refund_date,\n",
    "date_format(refund_timestamp, 'HH24:mm:ss') AS refund_time, \n",
    "refund_amount,\n",
    "regexp_extract(refund_reason, '^([^:]+):', 1) AS refund_reason,\n",
    "regexp_extract(refund_reason, '^[^:]+:(.*)$', 1) AS refund_source\n",
    "FROM\n",
    "hive_metastore.bronze.refunds;"
   ]
  },
  {
   "cell_type": "code",
   "execution_count": 0,
   "metadata": {
    "application/vnd.databricks.v1+cell": {
     "cellMetadata": {
      "byteLimit": 2048000,
      "implicitDf": true,
      "rowLimit": 10000
     },
     "inputWidgets": {},
     "nuid": "7e594d41-e9e8-43ce-af0b-3d542d7fe1b5",
     "showTitle": false,
     "tableResultSettingsMap": {},
     "title": ""
    }
   },
   "outputs": [],
   "source": [
    "%sql\n",
    "SELECT * FROM gizmobox_dev.silver.refunds"
   ]
  },
  {
   "cell_type": "code",
   "execution_count": 0,
   "metadata": {
    "application/vnd.databricks.v1+cell": {
     "cellMetadata": {
      "byteLimit": 2048000,
      "rowLimit": 10000
     },
     "inputWidgets": {},
     "nuid": "4b9b2047-366b-4dd9-af93-6f4da858c042",
     "showTitle": false,
     "tableResultSettingsMap": {},
     "title": ""
    }
   },
   "outputs": [],
   "source": [
    "dbutils.notebook.exit('REFUNDS TABLE HAS BEEN LOADED IN SILVER SCHEMA....')"
   ]
  }
 ],
 "metadata": {
  "application/vnd.databricks.v1+notebook": {
   "computePreferences": null,
   "dashboards": [],
   "environmentMetadata": {
    "base_environment": "",
    "environment_version": "2"
   },
   "inputWidgetPreferences": null,
   "language": "python",
   "notebookMetadata": {
    "mostRecentlyExecutedCommandWithImplicitDF": {
     "commandId": 5697782000926551,
     "dataframes": [
      "_sqldf"
     ]
    },
    "pythonIndentUnit": 4
   },
   "notebookName": "06.TransformRefunds",
   "widgets": {}
  },
  "language_info": {
   "name": "python"
  }
 },
 "nbformat": 4,
 "nbformat_minor": 0
}
