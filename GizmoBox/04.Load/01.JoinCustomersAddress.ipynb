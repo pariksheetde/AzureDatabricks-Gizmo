{
 "cells": [
  {
   "cell_type": "markdown",
   "metadata": {
    "application/vnd.databricks.v1+cell": {
     "cellMetadata": {
      "byteLimit": 2048000,
      "rowLimit": 10000
     },
     "inputWidgets": {},
     "nuid": "97827d5b-a9b2-4973-80e3-a5190f8ed757",
     "showTitle": false,
     "tableResultSettingsMap": {},
     "title": ""
    }
   },
   "source": [
    "#### JOIN BETWEEN `ADDRESS & CUSTOMERS`"
   ]
  },
  {
   "cell_type": "code",
   "execution_count": 0,
   "metadata": {
    "application/vnd.databricks.v1+cell": {
     "cellMetadata": {
      "byteLimit": 2048000,
      "rowLimit": 10000
     },
     "inputWidgets": {},
     "nuid": "32dbc218-bed5-4472-b537-d60c0946afd5",
     "showTitle": false,
     "tableResultSettingsMap": {
      "0": {
       "dataGridStateBlob": "{\"version\":1,\"tableState\":{\"columnPinning\":{\"left\":[\"#row_number#\"],\"right\":[]},\"columnSizing\":{},\"columnVisibility\":{}},\"settings\":{\"columns\":{}},\"syncTimestamp\":1752745571210}",
       "filterBlob": null,
       "queryPlanFiltersBlob": null,
       "tableResultIndex": 0
      }
     },
     "title": ""
    }
   },
   "outputs": [],
   "source": [
    "SELECT\n",
    "  cust.customer_id,\n",
    "  cust.customer_name,\n",
    "  cust.date_of_birth,\n",
    "  cust.email,\n",
    "  cust.member_since,\n",
    "  cust.telephone,\n",
    "  add.shipping_address_line_1,\n",
    "  add.shipping_city,\n",
    "  add.shipping_state,\n",
    "  add.shipping_postcode,\n",
    "  add.billing_address_line_1,\n",
    "  add.billing_state,\n",
    "  add.billing_postcode\n",
    "FROM\n",
    "gizmobox_dev.silver.customers cust INNER JOIN gizmobox_dev.silver.addresses add\n",
    "ON cust.customer_id = add.customer_id"
   ]
  },
  {
   "cell_type": "markdown",
   "metadata": {
    "application/vnd.databricks.v1+cell": {
     "cellMetadata": {
      "byteLimit": 2048000,
      "rowLimit": 10000
     },
     "inputWidgets": {},
     "nuid": "242f384f-75a0-462b-b7f5-344b8aefd9df",
     "showTitle": false,
     "tableResultSettingsMap": {},
     "title": ""
    }
   },
   "source": [
    "#### CREATE UDF TO GENERATE FULL NAME FROM `CUSTOMERS` TABLE"
   ]
  },
  {
   "cell_type": "code",
   "execution_count": 0,
   "metadata": {
    "application/vnd.databricks.v1+cell": {
     "cellMetadata": {
      "byteLimit": 2048000,
      "rowLimit": 10000
     },
     "inputWidgets": {},
     "nuid": "566b678b-4335-44c0-868b-3c4ff75974fd",
     "showTitle": false,
     "tableResultSettingsMap": {},
     "title": ""
    }
   },
   "outputs": [],
   "source": [
    "CREATE FUNCTION IF NOT EXISTS gizmobox_dev.default.get_fullname(f_name STRING, surname STRING)\n",
    "RETURNS STRING\n",
    "RETURN CONCAT(INITCAP(f_name), ' ', INITCAP(surname))"
   ]
  },
  {
   "cell_type": "code",
   "execution_count": 0,
   "metadata": {
    "application/vnd.databricks.v1+cell": {
     "cellMetadata": {
      "byteLimit": 2048000,
      "rowLimit": 10000
     },
     "inputWidgets": {},
     "nuid": "c7fa62ae-003e-44ec-aeee-8509b39032bf",
     "showTitle": false,
     "tableResultSettingsMap": {},
     "title": ""
    }
   },
   "outputs": [],
   "source": [
    "DESC FUNCTION EXTENDED gizmobox_dev.default.get_fullname"
   ]
  },
  {
   "cell_type": "markdown",
   "metadata": {
    "application/vnd.databricks.v1+cell": {
     "cellMetadata": {
      "byteLimit": 2048000,
      "rowLimit": 10000
     },
     "inputWidgets": {},
     "nuid": "e769eb75-d383-4cde-b916-b754693eba96",
     "showTitle": false,
     "tableResultSettingsMap": {},
     "title": ""
    }
   },
   "source": [
    "#### LOAD TRANSFORMED DATA INTO GOLD SCHEMA AS DELTA TABLE"
   ]
  },
  {
   "cell_type": "code",
   "execution_count": 0,
   "metadata": {
    "application/vnd.databricks.v1+cell": {
     "cellMetadata": {
      "byteLimit": 2048000,
      "rowLimit": 10000
     },
     "inputWidgets": {},
     "nuid": "23a51d78-a47d-4bfd-8fbf-7392dc7df3b1",
     "showTitle": false,
     "tableResultSettingsMap": {},
     "title": ""
    }
   },
   "outputs": [],
   "source": [
    "CREATE TABLE IF NOT EXISTS gizmobox_dev.gold.customers_address\n",
    "AS\n",
    "SELECT\n",
    "  cust.customer_id,\n",
    "  cust.customer_name,\n",
    "  cust.date_of_birth,\n",
    "  cust.email,\n",
    "  cust.member_since,\n",
    "  cust.telephone,\n",
    "  add.shipping_address_line_1,\n",
    "  add.shipping_city,\n",
    "  add.shipping_state,\n",
    "  add.shipping_postcode,\n",
    "  add.billing_address_line_1,\n",
    "  add.billing_state,\n",
    "  add.billing_postcode\n",
    "FROM\n",
    "gizmobox_dev.silver.customers cust INNER JOIN gizmobox_dev.silver.addresses add\n",
    "ON cust.customer_id = add.customer_id"
   ]
  },
  {
   "cell_type": "markdown",
   "metadata": {
    "application/vnd.databricks.v1+cell": {
     "cellMetadata": {
      "byteLimit": 2048000,
      "rowLimit": 10000
     },
     "inputWidgets": {},
     "nuid": "71190b9c-aaae-4d0a-bf00-ce1ef24d8299",
     "showTitle": false,
     "tableResultSettingsMap": {},
     "title": ""
    }
   },
   "source": [
    "#### VALIDATE RECORDS LOADED INTO `GOLD.CUSTOMERS_ADDRESS`"
   ]
  },
  {
   "cell_type": "code",
   "execution_count": 0,
   "metadata": {
    "application/vnd.databricks.v1+cell": {
     "cellMetadata": {
      "byteLimit": 2048000,
      "rowLimit": 10000
     },
     "inputWidgets": {},
     "nuid": "429eb982-2ea8-4c53-bab6-ddccc2d7cb4e",
     "showTitle": false,
     "tableResultSettingsMap": {},
     "title": ""
    }
   },
   "outputs": [],
   "source": [
    "SELECT * FROM gizmobox_dev.gold.customers_address"
   ]
  },
  {
   "cell_type": "code",
   "execution_count": 0,
   "metadata": {
    "application/vnd.databricks.v1+cell": {
     "cellMetadata": {
      "byteLimit": 2048000,
      "rowLimit": 10000
     },
     "inputWidgets": {},
     "nuid": "d28d80ef-605e-433f-8263-7ea1415ca36b",
     "showTitle": false,
     "tableResultSettingsMap": {},
     "title": ""
    }
   },
   "outputs": [],
   "source": [
    "DESC EXTENDED gizmobox_dev.gold.customers_address"
   ]
  },
  {
   "cell_type": "code",
   "execution_count": 0,
   "metadata": {
    "application/vnd.databricks.v1+cell": {
     "cellMetadata": {
      "byteLimit": 2048000,
      "rowLimit": 10000
     },
     "inputWidgets": {},
     "nuid": "7a3b6e99-03b5-4a19-9736-4a9161ad5c49",
     "showTitle": false,
     "tableResultSettingsMap": {},
     "title": ""
    }
   },
   "outputs": [],
   "source": [
    "%python\n",
    "dbutils.notebook.exit('CUSTOMERS_ADDRESS TABLE HAS BEEN LOADED IN GOLD SCHEMA....')"
   ]
  }
 ],
 "metadata": {
  "application/vnd.databricks.v1+notebook": {
   "computePreferences": null,
   "dashboards": [],
   "environmentMetadata": {
    "base_environment": "",
    "environment_version": "2"
   },
   "inputWidgetPreferences": null,
   "language": "sql",
   "notebookMetadata": {
    "pythonIndentUnit": 4
   },
   "notebookName": "01.JoinCustomersAddress",
   "widgets": {}
  },
  "language_info": {
   "name": "sql"
  }
 },
 "nbformat": 4,
 "nbformat_minor": 0
}
