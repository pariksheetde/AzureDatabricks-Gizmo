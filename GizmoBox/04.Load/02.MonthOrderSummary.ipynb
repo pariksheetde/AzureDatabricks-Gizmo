{
 "cells": [
  {
   "cell_type": "markdown",
   "metadata": {
    "application/vnd.databricks.v1+cell": {
     "cellMetadata": {
      "byteLimit": 2048000,
      "rowLimit": 10000
     },
     "inputWidgets": {},
     "nuid": "ce260007-e80d-4fb4-9537-d06498dbf062",
     "showTitle": false,
     "tableResultSettingsMap": {},
     "title": ""
    }
   },
   "source": [
    "### MONTHLY ORDER SUMMARY\n",
    "\n",
    "#### FOR EACH OF THE CUSTOMER, PRODUCE THE FOLLOWING SUMMARY PER MONTH\n",
    "1. Total Orders\n",
    "2. Total Items Bought\n",
    "3. Total Amount Spent"
   ]
  },
  {
   "cell_type": "code",
   "execution_count": 0,
   "metadata": {
    "application/vnd.databricks.v1+cell": {
     "cellMetadata": {
      "byteLimit": 2048000,
      "rowLimit": 10000
     },
     "inputWidgets": {},
     "nuid": "b99366b4-170b-4c12-b834-23a67e079207",
     "showTitle": false,
     "tableResultSettingsMap": {},
     "title": ""
    }
   },
   "outputs": [],
   "source": [
    "SELECT\n",
    "date_format(transaction_timestamp, 'yyyy-MM') AS order_month,\n",
    "customer_id,\n",
    "count(DISTINCT order_id) AS total_orders,\n",
    "sum(quantity) AS total_items_bought,\n",
    "sum(price * quantity) AS total_amount_spent\n",
    "FROM\n",
    "gizmobox_dev.silver.orders\n",
    "GROUP BY\n",
    "order_month, customer_id\n",
    "ORDER BY\n",
    "total_amount_spent DESC"
   ]
  },
  {
   "cell_type": "markdown",
   "metadata": {
    "application/vnd.databricks.v1+cell": {
     "cellMetadata": {
      "byteLimit": 2048000,
      "rowLimit": 10000
     },
     "inputWidgets": {},
     "nuid": "82833c99-2ddf-4b77-bd43-407d017f2d02",
     "showTitle": false,
     "tableResultSettingsMap": {},
     "title": ""
    }
   },
   "source": [
    "#### LOAD TRANSFORMED DATA INTO GOLD SCHEMA AS DELTA TABLE"
   ]
  },
  {
   "cell_type": "code",
   "execution_count": 0,
   "metadata": {
    "application/vnd.databricks.v1+cell": {
     "cellMetadata": {
      "byteLimit": 2048000,
      "rowLimit": 10000
     },
     "inputWidgets": {},
     "nuid": "b9a6c018-5ccb-47fc-8e36-98a7f9c61369",
     "showTitle": false,
     "tableResultSettingsMap": {},
     "title": ""
    }
   },
   "outputs": [],
   "source": [
    "CREATE TABLE IF NOT EXISTS gizmobox_dev.gold.monthly_order_summary \n",
    "AS\n",
    "SELECT\n",
    "date_format(transaction_timestamp, 'yyyy-MM') AS order_month,\n",
    "customer_id,\n",
    "count(DISTINCT order_id) AS total_orders,\n",
    "sum(quantity) AS total_items_bought,\n",
    "sum(price * quantity) AS total_amount_spent\n",
    "FROM\n",
    "gizmobox_dev.silver.orders\n",
    "GROUP BY\n",
    "order_month, customer_id\n",
    "ORDER BY\n",
    "total_amount_spent DESC"
   ]
  },
  {
   "cell_type": "code",
   "execution_count": 0,
   "metadata": {
    "application/vnd.databricks.v1+cell": {
     "cellMetadata": {
      "byteLimit": 2048000,
      "rowLimit": 10000
     },
     "inputWidgets": {},
     "nuid": "cb11ec62-c1ef-422e-88fb-123012c61b6b",
     "showTitle": false,
     "tableResultSettingsMap": {},
     "title": ""
    }
   },
   "outputs": [],
   "source": [
    "SELECT * FROM gizmobox_dev.gold.monthly_order_summary"
   ]
  },
  {
   "cell_type": "code",
   "execution_count": 0,
   "metadata": {
    "application/vnd.databricks.v1+cell": {
     "cellMetadata": {
      "byteLimit": 2048000,
      "rowLimit": 10000
     },
     "inputWidgets": {},
     "nuid": "3d8aa4e3-d57f-4f5d-bbef-94a8ece7dbd2",
     "showTitle": false,
     "tableResultSettingsMap": {},
     "title": ""
    }
   },
   "outputs": [],
   "source": [
    "%python\n",
    "dbutils.notebook.exit('MONTHLY_ORDERS_SUMMARY TABLE HAS BEEN LOADED IN GOLD SCHEMA....')"
   ]
  }
 ],
 "metadata": {
  "application/vnd.databricks.v1+notebook": {
   "computePreferences": null,
   "dashboards": [],
   "environmentMetadata": {
    "base_environment": "",
    "environment_version": "2"
   },
   "inputWidgetPreferences": null,
   "language": "sql",
   "notebookMetadata": {
    "pythonIndentUnit": 4
   },
   "notebookName": "02.MonthOrderSummary",
   "widgets": {}
  },
  "language_info": {
   "name": "sql"
  }
 },
 "nbformat": 4,
 "nbformat_minor": 0
}
