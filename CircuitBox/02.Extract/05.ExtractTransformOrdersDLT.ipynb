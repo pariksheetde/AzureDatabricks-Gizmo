{
 "cells": [
  {
   "cell_type": "markdown",
   "metadata": {
    "application/vnd.databricks.v1+cell": {
     "cellMetadata": {},
     "inputWidgets": {},
     "nuid": "0d9f26b1-a29b-4dd9-8f82-225b2c9d6a3a",
     "showTitle": false,
     "tableResultSettingsMap": {},
     "title": ""
    }
   },
   "source": [
    "#### INGEST / LOAD `ORDERS.JSON` INTO `BRONZE_ORDERS`"
   ]
  },
  {
   "cell_type": "code",
   "execution_count": 0,
   "metadata": {
    "application/vnd.databricks.v1+cell": {
     "cellMetadata": {
      "byteLimit": 2048000,
      "rowLimit": 10000
     },
     "inputWidgets": {},
     "nuid": "53b19922-dfbf-4ab7-b52e-c4e3ee33383f",
     "showTitle": false,
     "tableResultSettingsMap": {},
     "title": ""
    }
   },
   "outputs": [],
   "source": [
    "CREATE OR REFRESH STREAMING TABLE BRONZE_ORDERS\n",
    "COMMENT 'Ingesting raw orders data as JSON files and loading into bronze table'\n",
    "TBLPROPERTIES('quality' = 'bronze')\n",
    "AS\n",
    "SELECT \n",
    "*,\n",
    "_metadata.file_path AS file_path,\n",
    "CURRENT_TIMESTAMP AS ingestion_timestamp\n",
    "FROM \n",
    "cloud_files('/Volumes/circuitbox_dev/landing/operational_data/orders/',\n",
    "'json',\n",
    "map('cloudFiles.inferColumnTypes', 'true')\n",
    ")"
   ]
  },
  {
   "cell_type": "markdown",
   "metadata": {
    "application/vnd.databricks.v1+cell": {
     "cellMetadata": {},
     "inputWidgets": {},
     "nuid": "f9207fec-01c0-479a-b075-7668b4251bfd",
     "showTitle": false,
     "tableResultSettingsMap": {},
     "title": ""
    }
   },
   "source": [
    "#### PERFORM DATA QUALITY CHECKS"
   ]
  },
  {
   "cell_type": "code",
   "execution_count": 0,
   "metadata": {
    "application/vnd.databricks.v1+cell": {
     "cellMetadata": {},
     "inputWidgets": {},
     "nuid": "35a5662f-0937-4009-8d26-41f1bab8b09e",
     "showTitle": false,
     "tableResultSettingsMap": {},
     "title": ""
    }
   },
   "outputs": [],
   "source": [
    "CREATE STREAMING TABLE SILVER_ORDERS\n",
    "(\n",
    "  CONSTRAINT valid_customer_id EXPECT (customer_id IS NOT NULL) ON VIOLATION FAIL UPDATE,\n",
    "  CONSTRAINT valid_order_id EXPECT (order_id IS NOT NULL) ON VIOLATION FAIL UPDATE,\n",
    "  CONSTRAINT valid_payment_method EXPECT (payment_method IN ('Credit Card', 'Bank Transfer', 'PayPal')),\n",
    "  CONSTRAINT valid_order_status EXPECT (order_status IN ('Pending', 'Completed', 'Shipped', 'Cancelled'))\n",
    ")\n",
    "COMMENT 'Perform Data Quality Checks'\n",
    "TBLPROPERTIES('quality' = 'silver')\n",
    "AS\n",
    "SELECT\n",
    "customer_id,\n",
    "order_id,\n",
    "order_status,\n",
    "items,\n",
    "CAST(order_timestamp AS timestamp) AS order_timestamp,\n",
    "payment_method\n",
    "FROM STREAM(LIVE.BRONZE_ORDERS)"
   ]
  },
  {
   "cell_type": "code",
   "execution_count": 0,
   "metadata": {
    "application/vnd.databricks.v1+cell": {
     "cellMetadata": {},
     "inputWidgets": {},
     "nuid": "5f2ef1df-c191-48e9-9e3b-03c3e20b4c6e",
     "showTitle": false,
     "tableResultSettingsMap": {},
     "title": ""
    }
   },
   "outputs": [],
   "source": [
    "CREATE OR REFRESH STREAMING TABLE GOLD_ORDERS\n",
    "AS\n",
    "SELECT\n",
    "customer_id,\n",
    "order_id,\n",
    "order_status,\n",
    "order_timestamp,\n",
    "payment_method,\n",
    "item.name::STRING AS name,\n",
    "item.price::DOUBLE AS price,\n",
    "item.quantity::INT AS quantity,\n",
    "item.category::STRING AS category,\n",
    "item.item_id::INT AS item_id\n",
    "FROM\n",
    "(\n",
    "SELECT\n",
    "customer_id,\n",
    "order_id,\n",
    "explode(items) AS item,\n",
    "order_status,\n",
    "order_timestamp,\n",
    "payment_method\n",
    "FROM\n",
    "STREAM(LIVE.SILVER_ORDERS));"
   ]
  }
 ],
 "metadata": {
  "application/vnd.databricks.v1+notebook": {
   "computePreferences": null,
   "dashboards": [],
   "environmentMetadata": {
    "base_environment": "",
    "environment_version": "2"
   },
   "inputWidgetPreferences": null,
   "language": "sql",
   "notebookMetadata": {
    "pythonIndentUnit": 4
   },
   "notebookName": "05.ExtractTransformOrdersDLT",
   "widgets": {}
  },
  "language_info": {
   "name": "sql"
  }
 },
 "nbformat": 4,
 "nbformat_minor": 0
}
