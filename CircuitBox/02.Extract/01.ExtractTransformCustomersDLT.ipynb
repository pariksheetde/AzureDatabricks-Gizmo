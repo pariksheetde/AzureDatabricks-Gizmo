{
 "cells": [
  {
   "cell_type": "markdown",
   "metadata": {
    "application/vnd.databricks.v1+cell": {
     "cellMetadata": {},
     "inputWidgets": {},
     "nuid": "94629131-54dd-4510-86b3-d083a007c9d5",
     "showTitle": false,
     "tableResultSettingsMap": {},
     "title": ""
    }
   },
   "source": [
    "#### CREATE STREAMING TABLE FOR `CUSTOMERS.JSON` AND LOAD INTO `BRONZE_CUSTOMERS`"
   ]
  },
  {
   "cell_type": "code",
   "execution_count": 0,
   "metadata": {
    "application/vnd.databricks.v1+cell": {
     "cellMetadata": {
      "byteLimit": 2048000,
      "rowLimit": 10000
     },
     "inputWidgets": {},
     "nuid": "838cb5cf-ea67-44a8-97dc-87b5ada9ade4",
     "showTitle": false,
     "tableResultSettingsMap": {},
     "title": ""
    }
   },
   "outputs": [],
   "source": [
    "CREATE OR REFRESH STREAMING TABLE BRONZE_CUSTOMERS\n",
    "COMMENT 'Raw customer data ingested from cloud storage volume'\n",
    "TBLPROPERTIES ('quality' = 'bronze')\n",
    "AS\n",
    "SELECT\n",
    "*,\n",
    "_metadata.file_path AS file_path,\n",
    "_metadata.file_name AS file_name,\n",
    "CURRENT_TIMESTAMP AS load_timestamp\n",
    "FROM\n",
    "cloud_files('/Volumes/circuitbox_dev/landing/operational_data/customers/', \n",
    "'json',\n",
    "map('cloudFiles.inferColumnTypes', 'true')\n",
    ")"
   ]
  },
  {
   "cell_type": "markdown",
   "metadata": {
    "application/vnd.databricks.v1+cell": {
     "cellMetadata": {},
     "inputWidgets": {},
     "nuid": "44f50938-1caa-40ce-8567-0d1fbfa36605",
     "showTitle": false,
     "tableResultSettingsMap": {},
     "title": ""
    }
   },
   "source": [
    "#### PERFORM DATA QUALITY CHECKS\n",
    "- FAIL IS `CUSTOMER ID` IS NULL\n",
    "- DROP RECORDS WHEN `CUSTOMER NAME` IS NULL\n",
    "- WARN IF 'TELEPHONE NUMBER' IS LESS THAN 10 CHARACTERS\n",
    "- WARN IF `EMAIL` IS NULL\n",
    "- WARN IF `DOB` IS BEFORE 1920"
   ]
  },
  {
   "cell_type": "code",
   "execution_count": 0,
   "metadata": {
    "application/vnd.databricks.v1+cell": {
     "cellMetadata": {
      "byteLimit": 2048000,
      "rowLimit": 10000
     },
     "inputWidgets": {},
     "nuid": "548ff113-79ff-44f3-98a2-8d8b4f77e187",
     "showTitle": false,
     "tableResultSettingsMap": {},
     "title": ""
    }
   },
   "outputs": [],
   "source": [
    "CREATE OR REFRESH STREAMING TABLE SILVER_CUSTOMERS\n",
    "(\n",
    "CONSTRAINT valid_customer_id EXPECT (customer_id IS NOT NULL) ON VIOLATION FAIL UPDATE,\n",
    "CONSTRAINT valid_customer_name EXPECT (customer_name IS NOT NULL) ON VIOLATION DROP ROW,\n",
    "CONSTRAINT valid_customer_telephone EXPECT (LENGTH(telephone) >= 10),\n",
    "CONSTRAINT valid_customer_email EXPECT (email IS NOT NULL),\n",
    "CONSTRAINT valid_date_of_birth EXPECT (date_of_birth >= '1920-01-01')\n",
    ")\n",
    "COMMENT 'Cleaned customer data ingested from cloud storage volume'\n",
    "TBLPROPERTIES ('quality' = 'silver')\n",
    "AS\n",
    "SELECT\n",
    "customer_id,\n",
    "customer_name,\n",
    "CAST(date_of_birth AS DATE) AS date_of_birth,\n",
    "telephone,\n",
    "email,\n",
    "CAST(created_date AS DATE) AS created_date\n",
    "FROM\n",
    "STREAM(LIVE.BRONZE_CUSTOMERS);"
   ]
  },
  {
   "cell_type": "markdown",
   "metadata": {
    "application/vnd.databricks.v1+cell": {
     "cellMetadata": {},
     "inputWidgets": {},
     "nuid": "73ec191c-8bde-4b29-8226-58c326030bc5",
     "showTitle": false,
     "tableResultSettingsMap": {},
     "title": ""
    }
   },
   "source": [
    "#### PERFORM SLOWLY CHANGING DIMENSION (SCD I) FOR `CUSTOMERS`"
   ]
  },
  {
   "cell_type": "code",
   "execution_count": 0,
   "metadata": {
    "application/vnd.databricks.v1+cell": {
     "cellMetadata": {
      "byteLimit": 2048000,
      "rowLimit": 10000
     },
     "inputWidgets": {},
     "nuid": "94950442-f2e8-48a0-98a1-82db5f77f2e7",
     "showTitle": false,
     "tableResultSettingsMap": {},
     "title": ""
    }
   },
   "outputs": [],
   "source": [
    "CREATE OR REFRESH STREAMING TABLE SCD_1_CUSTOMERS\n",
    "COMMENT 'SCD TYPE 1'\n",
    "TBLPROPERTIES ('quality' = 'gold')"
   ]
  },
  {
   "cell_type": "code",
   "execution_count": 0,
   "metadata": {
    "application/vnd.databricks.v1+cell": {
     "cellMetadata": {},
     "inputWidgets": {},
     "nuid": "b1f5cd47-6ad0-49fd-b1c3-a111503af204",
     "showTitle": false,
     "tableResultSettingsMap": {},
     "title": ""
    }
   },
   "outputs": [],
   "source": [
    "APPLY CHANGES INTO LIVE.SCD_1_customers\n",
    "FROM STREAM(LIVE.SILVER_CUSTOMERS)\n",
    "KEYS (customer_id)\n",
    "SEQUENCE BY created_date\n",
    "STORED AS SCD TYPE 1;"
   ]
  },
  {
   "cell_type": "markdown",
   "metadata": {
    "application/vnd.databricks.v1+cell": {
     "cellMetadata": {},
     "inputWidgets": {},
     "nuid": "e5c0027d-6807-45af-a29a-ebcfbe578c4d",
     "showTitle": false,
     "tableResultSettingsMap": {},
     "title": ""
    }
   },
   "source": [
    "#### PERFORM SLOWLY CHANGING DIMENSION (SCD 2) FOR `CUSTOMERS`"
   ]
  },
  {
   "cell_type": "code",
   "execution_count": 0,
   "metadata": {
    "application/vnd.databricks.v1+cell": {
     "cellMetadata": {},
     "inputWidgets": {},
     "nuid": "5c3c1bb7-e402-43cd-83bf-533bd335531b",
     "showTitle": false,
     "tableResultSettingsMap": {},
     "title": ""
    }
   },
   "outputs": [],
   "source": [
    "CREATE OR REFRESH STREAMING TABLE SCD_2_CUSTOMERS\n",
    "COMMENT 'SCD TYPE 2'\n",
    "TBLPROPERTIES ('quality' = 'gold')"
   ]
  },
  {
   "cell_type": "code",
   "execution_count": 0,
   "metadata": {
    "application/vnd.databricks.v1+cell": {
     "cellMetadata": {},
     "inputWidgets": {},
     "nuid": "4e728d29-020b-4836-ad04-cef369174b11",
     "showTitle": false,
     "tableResultSettingsMap": {},
     "title": ""
    }
   },
   "outputs": [],
   "source": [
    "APPLY CHANGES INTO LIVE.SCD_2_CUSTOMERS\n",
    "FROM STREAM(LIVE.SILVER_CUSTOMERS)\n",
    "KEYS (customer_id)\n",
    "SEQUENCE BY created_date\n",
    "STORED AS SCD TYPE 2;"
   ]
  }
 ],
 "metadata": {
  "application/vnd.databricks.v1+notebook": {
   "computePreferences": null,
   "dashboards": [
    {
     "elements": [],
     "globalVars": {},
     "guid": "",
     "layoutOption": {
      "grid": true,
      "stack": true
     },
     "nuid": "45434452-c862-4a05-8e64-4b8e4a92d1e9",
     "origId": 5741288886821012,
     "title": "Untitled",
     "version": "DashboardViewV1",
     "width": 1024
    }
   ],
   "environmentMetadata": {
    "base_environment": "",
    "environment_version": "2"
   },
   "inputWidgetPreferences": null,
   "language": "sql",
   "notebookMetadata": {
    "pythonIndentUnit": 4
   },
   "notebookName": "01.ExtractTransformCustomersDLT",
   "widgets": {}
  },
  "language_info": {
   "name": "sql"
  }
 },
 "nbformat": 4,
 "nbformat_minor": 0
}
