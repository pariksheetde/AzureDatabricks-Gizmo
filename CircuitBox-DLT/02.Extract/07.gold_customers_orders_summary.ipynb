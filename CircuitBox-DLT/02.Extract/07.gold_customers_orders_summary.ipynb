{
 "cells": [
  {
   "cell_type": "code",
   "execution_count": 0,
   "metadata": {
    "application/vnd.databricks.v1+cell": {
     "cellMetadata": {},
     "inputWidgets": {},
     "nuid": "5bfbb0f6-d5c3-4fb3-90ae-d8117c686a54",
     "showTitle": false,
     "tableResultSettingsMap": {},
     "title": ""
    }
   },
   "outputs": [],
   "source": [
    "CREATE MATERIALIZED VIEW gold_customers_orders_summary\n",
    "AS\n",
    "SELECT\n",
    "cust.customer_id,\n",
    "cust.customer_name,\n",
    "cust.telephone,\n",
    "cust.email,\n",
    "cust.date_of_birth,\n",
    "addr.address_line_1,\n",
    "addr.city,\n",
    "addr.state,\n",
    "addr.postcode,\n",
    "COUNT(DISTINCT ord.order_id) AS total_orders,\n",
    "SUM(ord.quantity) AS total_items,\n",
    "SUM(ord.price * ord.quantity) AS total_order_amount\n",
    "FROM\n",
    "LIVE.scd_2_customers cust JOIN LIVE.scd_2_addresses addr\n",
    "ON cust.customer_id = addr.customer_id JOIN LIVE.gold_orders ord\n",
    "ON cust.customer_id = ord.customer_id\n",
    "AND cust.`__END_AT` IS NOT NULL\n",
    "AND addr.`__END_AT` IS NOT NULL\n",
    "GROUP BY ALL;"
   ]
  }
 ],
 "metadata": {
  "application/vnd.databricks.v1+notebook": {
   "computePreferences": null,
   "dashboards": [],
   "environmentMetadata": {
    "base_environment": "",
    "environment_version": "2"
   },
   "inputWidgetPreferences": null,
   "language": "sql",
   "notebookMetadata": {},
   "notebookName": "07.gold_customers_orders_summary",
   "widgets": {}
  },
  "language_info": {
   "name": "sql"
  }
 },
 "nbformat": 4,
 "nbformat_minor": 0
}
